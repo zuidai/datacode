{
 "cells": [
  {
   "cell_type": "code",
   "execution_count": 1,
   "metadata": {},
   "outputs": [
    {
     "name": "stdout",
     "output_type": "stream",
     "text": [
      "1\n",
      "2\n",
      "3\n",
      "4\n",
      "5\n",
      "6\n",
      "7\n",
      "8\n",
      "9\n"
     ]
    }
   ],
   "source": [
    "a=1\n",
    "while a<10:\n",
    "    print(a)\n",
    "    a=a+1"
   ]
  },
  {
   "cell_type": "code",
   "execution_count": 28,
   "metadata": {},
   "outputs": [
    {
     "name": "stdout",
     "output_type": "stream",
     "text": [
      "6*6=36\n"
     ]
    }
   ],
   "source": [
    "#计算x的平方\n",
    "x=6\n",
    "ans=0\n",
    "itersLeft=x\n",
    "while(itersLeft!=0):\n",
    "    ans=ans+x\n",
    "    itersLeft=itersLeft-1\n",
    "print(str(x)+'*'+str(x)+'='+str(ans))"
   ]
  },
  {
   "cell_type": "code",
   "execution_count": 29,
   "metadata": {},
   "outputs": [
    {
     "name": "stdout",
     "output_type": "stream",
     "text": [
      "cube root of 64 is 4\n"
     ]
    }
   ],
   "source": [
    "#求x的立方根（x为int型）\n",
    "x=64\n",
    "ans=0\n",
    "while ans**3<x:\n",
    "    ans=ans+1\n",
    "if ans**3!=x:\n",
    "    print(str(x)+'is not a perfect cube')\n",
    "else:\n",
    "    print('cube root of '+str(x)+' is '+str(ans))"
   ]
  },
  {
   "cell_type": "code",
   "execution_count": 2,
   "metadata": {},
   "outputs": [
    {
     "name": "stdout",
     "output_type": "stream",
     "text": [
      "cube root of 8 is 2\n"
     ]
    }
   ],
   "source": [
    "#求x的立方根（x为int型）,A cleaned up cube root finder;\n",
    "x=8\n",
    "for ans in range(0,abs(x)+1):\n",
    "    if ans**3==abs(x):\n",
    "        break\n",
    "if ans**3!=abs(x):\n",
    "    print(str(x)+'is not a perfect cube')\n",
    "else:\n",
    "    if x<0:\n",
    "        ans=-ans\n",
    "    print('cube root of '+str(x)+' is '+str(ans))"
   ]
  },
  {
   "cell_type": "code",
   "execution_count": 39,
   "metadata": {
    "collapsed": true
   },
   "outputs": [],
   "source": [
    "#Converting decimal integer to binary\n",
    "num=302\n",
    "if num < 0:\n",
    "    isNeg=True\n",
    "    num=abs(num)\n",
    "else:\n",
    "    isNeg=False\n",
    "result=''\n",
    "if num == 0:\n",
    "    result='0'\n",
    "while num >2:\n",
    "    result=str(num%2)+result\n",
    "    num=num//2 \n",
    "if isNeg:\n",
    "    result='-'+result"
   ]
  },
  {
   "cell_type": "code",
   "execution_count": 40,
   "metadata": {},
   "outputs": [
    {
     "data": {
      "text/plain": [
       "'0101110'"
      ]
     },
     "execution_count": 40,
     "metadata": {},
     "output_type": "execute_result"
    }
   ],
   "source": [
    "result"
   ]
  },
  {
   "cell_type": "code",
   "execution_count": 54,
   "metadata": {},
   "outputs": [
    {
     "name": "stdout",
     "output_type": "stream",
     "text": [
      "Remainder=0.1\n",
      "Remainder=0.2\n",
      "Remainder=0.4\n",
      "Remainder=0.8\n",
      "Remainder=0.6000000000000001\n",
      "Remainder=0.20000000000000018\n",
      "Remainder=0.40000000000000036\n",
      "Remainder=0.8000000000000007\n",
      "Remainder=0.6000000000000014\n",
      "Remainder=0.20000000000000284\n",
      "Remainder=0.4000000000000057\n",
      "Remainder=0.8000000000000114\n",
      "Remainder=0.6000000000000227\n",
      "Remainder=0.20000000000004547\n",
      "Remainder=0.40000000000009095\n",
      "Remainder=0.8000000000001819\n",
      "Remainder=0.6000000000003638\n",
      "Remainder=0.2000000000007276\n",
      "Remainder=0.4000000000014552\n",
      "Remainder=0.8000000000029104\n",
      "Remainder=0.6000000000058208\n",
      "Remainder=0.20000000001164153\n",
      "Remainder=0.40000000002328306\n",
      "Remainder=0.8000000000465661\n",
      "Remainder=0.6000000000931323\n",
      "Remainder=0.20000000018626451\n",
      "Remainder=0.40000000037252903\n",
      "Remainder=0.8000000007450581\n",
      "Remainder=0.6000000014901161\n",
      "Remainder=0.20000000298023224\n",
      "Remainder=0.4000000059604645\n",
      "Remainder=0.800000011920929\n",
      "Remainder=0.6000000238418579\n",
      "Remainder=0.20000004768371582\n",
      "Remainder=0.40000009536743164\n",
      "Remainder=0.8000001907348633\n",
      "Remainder=0.6000003814697266\n",
      "Remainder=0.20000076293945312\n",
      "Remainder=0.40000152587890625\n",
      "Remainder=0.8000030517578125\n",
      "Remainder=0.600006103515625\n",
      "Remainder=0.20001220703125\n",
      "Remainder=0.4000244140625\n",
      "Remainder=0.800048828125\n",
      "Remainder=0.60009765625\n",
      "Remainder=0.2001953125\n",
      "Remainder=0.400390625\n",
      "Remainder=0.80078125\n",
      "Remainder=0.6015625\n",
      "Remainder=0.203125\n",
      "Remainder=0.40625\n",
      "Remainder=0.8125\n",
      "Remainder=0.625\n",
      "Remainder=0.25\n",
      "Remainder=0.5\n",
      "The binary representation of the decimal 0.1 is 0001100110011001100110011001100110011001100110011001101\n"
     ]
    }
   ],
   "source": [
    "#So what about fractions? (0<x<1)\n",
    "x=0.1\n",
    "\n",
    "#寻求p使(2**p)*x为整数\n",
    "p=0\n",
    "while((2**p)*x)%1 !=0:\n",
    "    print('Remainder='+str((2**p)*x-int((2**p)*x)))\n",
    "    p+=1\n",
    "\n",
    "#将小数x变成十进制整数\n",
    "num=int(x*(2**p))\n",
    "\n",
    "#Converting dacimal integer to binary\n",
    "result=''\n",
    "if num==0:\n",
    "    result='0'\n",
    "while num >0:\n",
    "    result=str(num%2)+result\n",
    "    num=num//2\n",
    "\n",
    "for i in range(p-len(result)):\n",
    "    result='0'+result\n",
    "    \n",
    "result=result[0:-p]+result[-p:]\n",
    "print('The binary representation of the decimal '+str(x)+' is '+str(result))   "
   ]
  },
  {
   "cell_type": "code",
   "execution_count": 58,
   "metadata": {},
   "outputs": [
    {
     "name": "stdout",
     "output_type": "stream",
     "text": [
      "numGuesses =1111081\n",
      "111.10810000256487 is close to the square root of 12345\n"
     ]
    }
   ],
   "source": [
    "#近似求平方根(穷举:exhaustive search)\n",
    "x=12345\n",
    "epsilon=0.01  #精度为0.01\n",
    "step=epsilon**2 #步长\n",
    "numGuesses=0 \n",
    "ans=0\n",
    "while(abs(ans**2-x))>=epsilon and ans<=x:\n",
    "    ans += step\n",
    "    numGuesses += 1\n",
    "print('numGuesses ='+str(numGuesses))\n",
    "if abs(ans**2-x)>=epsilon:\n",
    "    print('Failed on square root of '+str(x))\n",
    "else:\n",
    "    print(str(ans)+' is close to the square root of '+str(x))"
   ]
  },
  {
   "cell_type": "code",
   "execution_count": 62,
   "metadata": {},
   "outputs": [
    {
     "name": "stdout",
     "output_type": "stream",
     "text": [
      "low = 0.0high12345 ans = 6172.5\n",
      "low = 0.0high6172.5 ans = 3086.25\n",
      "low = 0.0high3086.25 ans = 1543.125\n",
      "low = 0.0high1543.125 ans = 771.5625\n",
      "low = 0.0high771.5625 ans = 385.78125\n",
      "low = 0.0high385.78125 ans = 192.890625\n",
      "low = 0.0high192.890625 ans = 96.4453125\n",
      "low = 96.4453125high192.890625 ans = 144.66796875\n",
      "low = 96.4453125high144.66796875 ans = 120.556640625\n",
      "low = 96.4453125high120.556640625 ans = 108.5009765625\n",
      "low = 108.5009765625high120.556640625 ans = 114.52880859375\n",
      "low = 108.5009765625high114.52880859375 ans = 111.514892578125\n",
      "low = 108.5009765625high111.514892578125 ans = 110.0079345703125\n",
      "low = 110.0079345703125high111.514892578125 ans = 110.76141357421875\n",
      "low = 110.76141357421875high111.514892578125 ans = 111.13815307617188\n",
      "low = 110.76141357421875high111.13815307617188 ans = 110.94978332519531\n",
      "low = 110.94978332519531high111.13815307617188 ans = 111.0439682006836\n",
      "low = 111.0439682006836high111.13815307617188 ans = 111.09106063842773\n",
      "low = 111.09106063842773high111.13815307617188 ans = 111.1146068572998\n",
      "low = 111.09106063842773high111.1146068572998 ans = 111.10283374786377\n",
      "low = 111.10283374786377high111.1146068572998 ans = 111.10872030258179\n",
      "low = 111.10283374786377high111.10872030258179 ans = 111.10577702522278\n",
      "low = 111.10577702522278high111.10872030258179 ans = 111.10724866390228\n",
      "low = 111.10724866390228high111.10872030258179 ans = 111.10798448324203\n",
      "low = 111.10798448324203high111.10872030258179 ans = 111.10835239291191\n",
      "low = 111.10798448324203high111.10835239291191 ans = 111.10816843807697\n",
      "numGuesses = 26\n",
      "111.1080764606595 is close to the square root of 12345\n"
     ]
    }
   ],
   "source": [
    "#近似求平方根(二分:Bisection search)\n",
    "x=12345\n",
    "epsilon=0.01  \n",
    "numGuesses=0 \n",
    "low=0.0\n",
    "high=x\n",
    "ans=(high+low)/2.0\n",
    "while(abs(ans**2-x))>=epsilon:\n",
    "    print('low = '+str(low)+'high'+str(high)+' ans = '+str(ans))\n",
    "    numGuesses += 1\n",
    "    if ans**2<x:\n",
    "        low=ans\n",
    "    else:\n",
    "        high=ans\n",
    "    ans=(low+high)/2.0\n",
    "print('numGuesses = '+str(numGuesses))\n",
    "print(str(ans)+' is close to the square root of '+str(x))"
   ]
  },
  {
   "cell_type": "code",
   "execution_count": 66,
   "metadata": {},
   "outputs": [
    {
     "name": "stdout",
     "output_type": "stream",
     "text": [
      "3087.25\n",
      "1545.6243521742651\n",
      "776.8057078863158\n",
      "396.3488563184434\n",
      "213.74782997835234\n",
      "135.7514011401473\n",
      "113.34484452113772\n",
      "111.13012632357888\n",
      "111.10805770520838\n",
      "Square root of 12345.0 is about 111.10805770520838\n"
     ]
    }
   ],
   "source": [
    "#近似求平方根(New-Raphson)\n",
    "epsilon=0.01  \n",
    "y=12345.0\n",
    "guess=y/2.0\n",
    "\n",
    "while abs(guess*guess-y)>=epsilon:\n",
    "    guess=guess-(((guess**2)-y)/(2*guess))\n",
    "    print(guess)\n",
    "print('Square root of '+str(y)+' is about '+str(guess))"
   ]
  },
  {
   "cell_type": "code",
   "execution_count": 74,
   "metadata": {},
   "outputs": [
    {
     "data": {
      "text/plain": [
       "4"
      ]
     },
     "execution_count": 74,
     "metadata": {},
     "output_type": "execute_result"
    }
   ],
   "source": [
    "#定义函数\n",
    "def square(x):\n",
    "    return x*x\n",
    "square(2)"
   ]
  },
  {
   "cell_type": "code",
   "execution_count": 89,
   "metadata": {
    "collapsed": true
   },
   "outputs": [],
   "source": [
    "#定义函数(二分:近似求根)\n",
    "def findRoot(x,power,epsilon):\n",
    "    if x<0 and power%2==2:\n",
    "        return None\n",
    "    low=min(-1,x)   \n",
    "    high=max(1,x)\n",
    "    ans=(low+high)/2.0\n",
    "    while abs(ans**power - x)>epsilon:\n",
    "        if ans**power<x:\n",
    "            low=ans\n",
    "        else:\n",
    "            high=ans\n",
    "        ans=(low+high)/2.0\n",
    "    return ans"
   ]
  },
  {
   "cell_type": "code",
   "execution_count": 94,
   "metadata": {},
   "outputs": [
    {
     "data": {
      "text/plain": [
       "-2.9998779296875"
      ]
     },
     "execution_count": 94,
     "metadata": {},
     "output_type": "execute_result"
    }
   ],
   "source": [
    "findRoot(-27,3,0.01)"
   ]
  },
  {
   "cell_type": "code",
   "execution_count": 95,
   "metadata": {},
   "outputs": [
    {
     "data": {
      "text/plain": [
       "-0.625"
      ]
     },
     "execution_count": 95,
     "metadata": {},
     "output_type": "execute_result"
    }
   ],
   "source": [
    "findRoot(-0.25,3,0.01)"
   ]
  },
  {
   "cell_type": "code",
   "execution_count": 4,
   "metadata": {},
   "outputs": [
    {
     "data": {
      "text/plain": [
       "6"
      ]
     },
     "execution_count": 4,
     "metadata": {},
     "output_type": "execute_result"
    }
   ],
   "source": [
    "#递归(recursive)\n",
    "def recurMul(a,b):\n",
    "    if b==1:\n",
    "        return a\n",
    "    else:\n",
    "        return a+recurMul(a,b-1)\n",
    "\n",
    "recurMul(2,3)"
   ]
  },
  {
   "cell_type": "code",
   "execution_count": 1,
   "metadata": {},
   "outputs": [
    {
     "data": {
      "text/plain": [
       "120"
      ]
     },
     "execution_count": 1,
     "metadata": {},
     "output_type": "execute_result"
    }
   ],
   "source": [
    "def factL(n):\n",
    "    '''assumes that n is an integer>0\n",
    "       returns n!'''\n",
    "    res=1\n",
    "    while n>1:\n",
    "        res=res*n\n",
    "        n-=1\n",
    "    return res\n",
    "factL(5)"
   ]
  },
  {
   "cell_type": "code",
   "execution_count": 2,
   "metadata": {},
   "outputs": [
    {
     "data": {
      "text/plain": [
       "120"
      ]
     },
     "execution_count": 2,
     "metadata": {},
     "output_type": "execute_result"
    }
   ],
   "source": [
    "def factR(n):\n",
    "    '''assumes that n is an integer>0\n",
    "       returns n!'''\n",
    "    if n==1:\n",
    "        return n\n",
    "    return n*factR(n-1)\n",
    "factR(5)"
   ]
  },
  {
   "cell_type": "code",
   "execution_count": 8,
   "metadata": {},
   "outputs": [
    {
     "name": "stdout",
     "output_type": "stream",
     "text": [
      "move form f to t\n",
      "move form f to s\n",
      "move form t to s\n",
      "move form f to t\n",
      "move form s to f\n",
      "move form s to t\n",
      "move form f to t\n",
      "move form f to s\n",
      "move form t to s\n",
      "move form t to f\n",
      "move form s to f\n",
      "move form t to s\n",
      "move form f to t\n",
      "move form f to s\n",
      "move form t to s\n",
      "move form f to t\n",
      "move form s to f\n",
      "move form s to t\n",
      "move form f to t\n",
      "move form s to f\n",
      "move form t to s\n",
      "move form t to f\n",
      "move form s to f\n",
      "move form s to t\n",
      "move form f to t\n",
      "move form f to s\n",
      "move form t to s\n",
      "move form f to t\n",
      "move form s to f\n",
      "move form s to t\n",
      "move form f to t\n"
     ]
    }
   ],
   "source": [
    "#Tower of Hanoi(recursive)\n",
    "def printMove(fr,to):\n",
    "    print('move form '+str(fr)+' to '+str(to))\n",
    "def Towers(n,fr,to,spare):\n",
    "    if n==1:\n",
    "        printMove(fr,to)\n",
    "    else:\n",
    "        Towers(n-1,fr,spare,to)\n",
    "        Towers(1,fr,to,spare)\n",
    "        Towers(n-1,spare,to,fr)\n",
    "Towers(5,'f','t','s')"
   ]
  },
  {
   "cell_type": "code",
   "execution_count": 13,
   "metadata": {},
   "outputs": [
    {
     "data": {
      "text/plain": [
       "5"
      ]
     },
     "execution_count": 13,
     "metadata": {},
     "output_type": "execute_result"
    }
   ],
   "source": [
    "#Fibonacci number(recursive)\n",
    "def fib(x):\n",
    "    '''assumes x an int >=0\n",
    "       return Fibonacci of x'''\n",
    "    assert type(x)==int and x>=0\n",
    "    if x==0 or x==1:\n",
    "        return 1\n",
    "    else:\n",
    "        return fib(x-1)+fib(x-2)\n",
    "fib(4)"
   ]
  },
  {
   "cell_type": "code",
   "execution_count": 29,
   "metadata": {},
   "outputs": [
    {
     "data": {
      "text/plain": [
       "True"
      ]
     },
     "execution_count": 29,
     "metadata": {},
     "output_type": "execute_result"
    }
   ],
   "source": [
    "#回文\n",
    "def isPalindrome(s):\n",
    "    def toChars(s):\n",
    "        s=s.lower()\n",
    "        ans=''\n",
    "        for c in s:\n",
    "            if c in 'abcdefghijklmnopqrstuvwxyz':\n",
    "                ans=ans+c\n",
    "        return ans\n",
    "    \n",
    "    def isPal(s):\n",
    "        if len(s) <=1:\n",
    "            return True\n",
    "        else:\n",
    "            return s[0]==s[-1] and isPal(s[1:-1])\n",
    "        \n",
    "    return isPal(toChars(s))\n",
    "\n",
    "isPalindrome('Abccba')"
   ]
  },
  {
   "cell_type": "code",
   "execution_count": 2,
   "metadata": {},
   "outputs": [
    {
     "data": {
      "text/plain": [
       "(1, 2, 4, 5, 10, 20)"
      ]
     },
     "execution_count": 2,
     "metadata": {},
     "output_type": "execute_result"
    }
   ],
   "source": [
    "#tuples\n",
    "def findDivisons(n1,n2):\n",
    "    '''assumes n1 and n2 positive ints\n",
    "       returns tuples containing\n",
    "       common divisors of n1 and n2'''\n",
    "    divisons=()  #the empty tuple\n",
    "    for i in range(1,min(n1,n2)+1):\n",
    "        if n1%i==0 and n2%i==0:\n",
    "            divisons=divisons+(i,)\n",
    "    return divisons\n",
    "findDivisons(20,100)   "
   ]
  },
  {
   "cell_type": "code",
   "execution_count": 3,
   "metadata": {},
   "outputs": [
    {
     "name": "stdout",
     "output_type": "stream",
     "text": [
      "42\n"
     ]
    }
   ],
   "source": [
    "divs=findDivisons(20,100)\n",
    "total=0\n",
    "for d in divs:\n",
    "    total+=d\n",
    "print(total)"
   ]
  },
  {
   "cell_type": "code",
   "execution_count": 4,
   "metadata": {
    "collapsed": true
   },
   "outputs": [],
   "source": [
    "#lists\n",
    "techs=['MIT','Cal Tech']\n",
    "lvys=['Harvard','Yale','Brown']\n",
    "univs=[techs,lvys]"
   ]
  },
  {
   "cell_type": "code",
   "execution_count": 5,
   "metadata": {},
   "outputs": [
    {
     "data": {
      "text/plain": [
       "[['MIT', 'Cal Tech'], ['Harvard', 'Yale', 'Brown']]"
      ]
     },
     "execution_count": 5,
     "metadata": {},
     "output_type": "execute_result"
    }
   ],
   "source": [
    "univs"
   ]
  },
  {
   "cell_type": "code",
   "execution_count": 6,
   "metadata": {},
   "outputs": [
    {
     "data": {
      "text/plain": [
       "['MIT', 'Cal Tech', 'RPI']"
      ]
     },
     "execution_count": 6,
     "metadata": {},
     "output_type": "execute_result"
    }
   ],
   "source": [
    "techs.append('RPI')\n",
    "techs"
   ]
  },
  {
   "cell_type": "code",
   "execution_count": 12,
   "metadata": {},
   "outputs": [
    {
     "data": {
      "text/plain": [
       "[['MIT', 'Cal Tech', 'RPI'], ['Harvard', 'Yale', 'Brown']]"
      ]
     },
     "execution_count": 12,
     "metadata": {},
     "output_type": "execute_result"
    }
   ],
   "source": [
    "univs"
   ]
  },
  {
   "cell_type": "code",
   "execution_count": 14,
   "metadata": {},
   "outputs": [
    {
     "data": {
      "text/plain": [
       "'Cal Tech'"
      ]
     },
     "execution_count": 14,
     "metadata": {},
     "output_type": "execute_result"
    }
   ],
   "source": [
    "techs[1]"
   ]
  },
  {
   "cell_type": "code",
   "execution_count": 15,
   "metadata": {},
   "outputs": [
    {
     "data": {
      "text/plain": [
       "['MIT', 'WPI', 'RPI']"
      ]
     },
     "execution_count": 15,
     "metadata": {},
     "output_type": "execute_result"
    }
   ],
   "source": [
    "techs[1]='WPI'\n",
    "techs"
   ]
  },
  {
   "cell_type": "code",
   "execution_count": 17,
   "metadata": {},
   "outputs": [
    {
     "name": "stdout",
     "output_type": "stream",
     "text": [
      "univs contains\n",
      "['MIT', 'WPI', 'RPI']\n",
      "which contains\n",
      " MIT\n",
      " WPI\n",
      " RPI\n",
      "univs contains\n",
      "['Harvard', 'Yale', 'Brown']\n",
      "which contains\n",
      " Harvard\n",
      " Yale\n",
      " Brown\n"
     ]
    }
   ],
   "source": [
    "for e in univs:\n",
    "    print('univs contains')\n",
    "    print(e)\n",
    "    print('which contains')\n",
    "    for u in e:\n",
    "        print(' '+u)"
   ]
  },
  {
   "cell_type": "code",
   "execution_count": 18,
   "metadata": {},
   "outputs": [
    {
     "data": {
      "text/plain": [
       "['MIT', 'WPI', 'RPI', 'Harvard', 'Yale', 'Brown']"
      ]
     },
     "execution_count": 18,
     "metadata": {},
     "output_type": "execute_result"
    }
   ],
   "source": [
    "flat=techs+lvys\n",
    "flat"
   ]
  },
  {
   "cell_type": "code",
   "execution_count": 26,
   "metadata": {},
   "outputs": [
    {
     "name": "stdout",
     "output_type": "stream",
     "text": [
      "[3, 4]\n"
     ]
    }
   ],
   "source": [
    "def removeDupsBetter(L1,L2):\n",
    "    L1start=L1[:]  #复制L1,遍历\n",
    "    for e1 in L1start:  #若用L1则又会返回原列表\n",
    "        if e1 in L2:\n",
    "            L1.remove(e1)\n",
    "\n",
    "L1=[1,2,3,4]\n",
    "L2=[1,2,5,6]\n",
    "removeDupsBetter(L1,L2)\n",
    "print(L1)"
   ]
  },
  {
   "cell_type": "code",
   "execution_count": 30,
   "metadata": {
    "collapsed": true
   },
   "outputs": [],
   "source": [
    "def applyToEach(L,f):\n",
    "    '''assumes L is a list,f is a function\n",
    "       mutates L by replacing each element,\n",
    "       e,of L by f(e)'''\n",
    "    for i in range(len(L)):\n",
    "        L[i]=f(L[i])"
   ]
  },
  {
   "cell_type": "code",
   "execution_count": 33,
   "metadata": {},
   "outputs": [
    {
     "name": "stdout",
     "output_type": "stream",
     "text": [
      "[1, 2, 3.4]\n"
     ]
    }
   ],
   "source": [
    "L=[1,-2,3.4]\n",
    "applyToEach(L,abs)\n",
    "print(L)"
   ]
  },
  {
   "cell_type": "code",
   "execution_count": 34,
   "metadata": {},
   "outputs": [
    {
     "name": "stdout",
     "output_type": "stream",
     "text": [
      "[1, 2, 3]\n"
     ]
    }
   ],
   "source": [
    "applyToEach(L,int)\n",
    "print(L)"
   ]
  },
  {
   "cell_type": "code",
   "execution_count": 38,
   "metadata": {},
   "outputs": [
    {
     "name": "stdout",
     "output_type": "stream",
     "text": [
      "3.4\n",
      "-3\n"
     ]
    }
   ],
   "source": [
    "#List of function\n",
    "def applyFuns(L,x):\n",
    "    for f in L:\n",
    "        print(f(x))\n",
    "applyFuns([abs,int],-3.4)"
   ]
  },
  {
   "cell_type": "code",
   "execution_count": 43,
   "metadata": {},
   "outputs": [
    {
     "data": {
      "text/plain": [
       "[1, 2, 3, 4]"
      ]
     },
     "execution_count": 43,
     "metadata": {},
     "output_type": "execute_result"
    }
   ],
   "source": [
    "list(map(abs,[1,-2,3,-4]))  #在python3里面，map()的返回值是iterators,须list(map())。"
   ]
  },
  {
   "cell_type": "code",
   "execution_count": 3,
   "metadata": {
    "collapsed": true
   },
   "outputs": [],
   "source": [
    "#search,O(len(L))\n",
    "def search0(L,e):\n",
    "    for i in range(len(L)):\n",
    "        if L[i]==e:\n",
    "            return True\n",
    "    return False"
   ]
  },
  {
   "cell_type": "code",
   "execution_count": 2,
   "metadata": {
    "collapsed": true
   },
   "outputs": [],
   "source": [
    "#search(Binary search)\n",
    "def search(L,e):\n",
    "    def bSearch(L,e,low,high):\n",
    "        if high == low:\n",
    "            return L[low]==e\n",
    "    mid=low+int((high-low)/2)\n",
    "    if L[mid]==e:\n",
    "        return True\n",
    "    if L[mid]>e:\n",
    "        return bSearch(L,e,low,mid-1)\n",
    "    else:\n",
    "        return bSearch(L,e,mid+1,high)\n",
    "    if len(L)==0:\n",
    "        return False\n",
    "    else:\n",
    "        return bSearch(L,e,0,len(L)-1)"
   ]
  },
  {
   "cell_type": "code",
   "execution_count": 5,
   "metadata": {
    "collapsed": true
   },
   "outputs": [],
   "source": [
    "#Selection sort\n",
    "def selsort(L):\n",
    "    for i in range(len(L)-1):\n",
    "        minIndx=i\n",
    "        minVal=L[i]\n",
    "        j=i+1\n",
    "        while j<len(L):\n",
    "            if minVal >L[j]:\n",
    "                minIndx=j\n",
    "                minVal=L[j]\n",
    "            j+=1\n",
    "        temp=L[i]\n",
    "        L[i]=L[minIndx]\n",
    "        L[minIndx]=temp"
   ]
  },
  {
   "cell_type": "code",
   "execution_count": 7,
   "metadata": {
    "collapsed": true
   },
   "outputs": [],
   "source": [
    "#归并(merge)\n",
    "def merge(left,right,compare):\n",
    "    result=[]\n",
    "    i,j=0,0\n",
    "    while i<len(left) and j<len(right):\n",
    "        if compare(left[i],right[j]):\n",
    "            result.append(left[i])\n",
    "            i+=1\n",
    "        else:\n",
    "            result.append(right[j])\n",
    "    while (i<len(left)):\n",
    "        result.append(left[i])\n",
    "        i+=1\n",
    "    while (j<len(right)):\n",
    "        result.append(right[j])\n",
    "        j+=1\n",
    "    return result"
   ]
  },
  {
   "cell_type": "code",
   "execution_count": 9,
   "metadata": {
    "collapsed": true
   },
   "outputs": [],
   "source": [
    "import operator\n",
    "def mergeSort(L,compare=operator.lt):\n",
    "    if len(l)<2:\n",
    "        return L[:]\n",
    "    else:\n",
    "        middle=int(len(L)/2)\n",
    "        left=mergeSort(L[:middle],compare)\n",
    "        right=mergeSort(L[middle:],compare)\n",
    "        return merge(left,right,compare)"
   ]
  },
  {
   "cell_type": "code",
   "execution_count": null,
   "metadata": {
    "collapsed": true
   },
   "outputs": [],
   "source": []
  }
 ],
 "metadata": {
  "kernelspec": {
   "display_name": "Python 3",
   "language": "python",
   "name": "python3"
  },
  "language_info": {
   "codemirror_mode": {
    "name": "ipython",
    "version": 3
   },
   "file_extension": ".py",
   "mimetype": "text/x-python",
   "name": "python",
   "nbconvert_exporter": "python",
   "pygments_lexer": "ipython3",
   "version": "3.6.3"
  }
 },
 "nbformat": 4,
 "nbformat_minor": 2
}
