{
 "cells": [
  {
   "cell_type": "code",
   "execution_count": 1,
   "metadata": {},
   "outputs": [
    {
     "name": "stdout",
     "output_type": "stream",
     "text": [
      "10\n"
     ]
    }
   ],
   "source": [
    "#函数的本质就是功能的封装，plus效率及可读性。\n",
    "#变量是有生效范围的，这个生效范围叫做作用域，作用域覆盖整个程序的变量为全局变量，否则为局部变量。\n",
    "\n",
    "#作用域\n",
    "i=10      # i为全局变量\n",
    "def fun():\n",
    "    j=10      #j为局部变量\n",
    "    print(j)\n",
    "print(i)"
   ]
  },
  {
   "cell_type": "code",
   "execution_count": 2,
   "metadata": {
    "collapsed": true
   },
   "outputs": [],
   "source": [
    "#函数参数:就是与外界沟通的接口，包含形参和实参\n",
    "#一般在函数定义的时候使用形参\n",
    "#一般在函数调用的时候使用的是实参\n",
    "def fun1(a,b):\n",
    "    if (a>b):\n",
    "        print('a>b')\n",
    "    else:\n",
    "        print('a<=b')"
   ]
  },
  {
   "cell_type": "code",
   "execution_count": 4,
   "metadata": {},
   "outputs": [
    {
     "name": "stdout",
     "output_type": "stream",
     "text": [
      "a<=b\n",
      "a>b\n"
     ]
    }
   ],
   "source": [
    "fun1(4,5)\n",
    "fun1(5,4)"
   ]
  },
  {
   "cell_type": "code",
   "execution_count": 5,
   "metadata": {
    "collapsed": true
   },
   "outputs": [],
   "source": [
    "# Python模块：就是功能块的集合，功能快中包含各种函数。\n",
    "import cgi\n",
    "from cgi import closelog\n",
    "'''\n",
    "模块的类别（来源）\n",
    "1.自带模块\n",
    "2.第三方模块\n",
    "  2.1 pip\n",
    "  2.2 whl下载安装( 百度：lfd python) \n",
    "  2.3 直接复制\n",
    "3.自定义\n",
    "\n",
    "'''"
   ]
  },
  {
   "cell_type": "code",
   "execution_count": 13,
   "metadata": {
    "collapsed": true
   },
   "outputs": [],
   "source": [
    "#文件\n",
    "#打开\n",
    "#open(文件地址，操作形式)\n",
    "'''\n",
    "w:写入\n",
    "r:只读\n",
    "b:二进制\n",
    "a:追加\n",
    "\n",
    "'''\n",
    "blm=open('C:/Users/Administrator/Desktop/文本1.txt','r')"
   ]
  },
  {
   "cell_type": "code",
   "execution_count": 14,
   "metadata": {},
   "outputs": [
    {
     "data": {
      "text/plain": [
       "<_io.TextIOWrapper name='C:/Users/Administrator/Desktop/文本1.txt' mode='r' encoding='cp936'>"
      ]
     },
     "execution_count": 14,
     "metadata": {},
     "output_type": "execute_result"
    }
   ],
   "source": [
    "blm"
   ]
  },
  {
   "cell_type": "code",
   "execution_count": 22,
   "metadata": {},
   "outputs": [
    {
     "data": {
      "text/plain": [
       "'#文件读取\\ndata=blm.read()   #读取全部\\nline=readline()   #读取部分\\ndata\\n'"
      ]
     },
     "execution_count": 22,
     "metadata": {},
     "output_type": "execute_result"
    }
   ],
   "source": [
    "'''#文件读取\n",
    "data=blm.read()   #读取全部\n",
    "line=readline()   #读取部分\n",
    "data\n",
    "'''"
   ]
  },
  {
   "cell_type": "code",
   "execution_count": 16,
   "metadata": {
    "collapsed": true
   },
   "outputs": [],
   "source": [
    "#文件关闭\n",
    "blm.close()"
   ]
  },
  {
   "cell_type": "code",
   "execution_count": 21,
   "metadata": {
    "collapsed": true
   },
   "outputs": [],
   "source": [
    "#文件写入\n",
    "data='一起学python!'\n",
    "blm2=open('C:/Users/Administrator/Desktop/文本2.txt','w')  \n",
    "blm2.write(data)\n",
    "blm2.close()  #关闭后才会存储"
   ]
  },
  {
   "cell_type": "code",
   "execution_count": 25,
   "metadata": {
    "collapsed": true
   },
   "outputs": [],
   "source": [
    "data1='学好python'\n",
    "blm2=open('C:/Users/Administrator/Desktop/文本2.txt','a')  #此次读入会覆盖掉以前的内容，若只是增加，可用\"a\";\n",
    "blm2.write(data1)\n",
    "blm2.close()"
   ]
  },
  {
   "cell_type": "code",
   "execution_count": 30,
   "metadata": {},
   "outputs": [
    {
     "name": "stdout",
     "output_type": "stream",
     "text": [
      "0\n",
      "1\n",
      "2\n",
      "3\n",
      "4\n",
      "name 'jfj' is not defined\n"
     ]
    }
   ],
   "source": [
    "#异常处理\n",
    "'''\n",
    "try:\n",
    "    程序\n",
    "except Exception as 异常名称：\n",
    "    异常处理\n",
    "\n",
    "'''\n",
    "try:\n",
    "    for i in range(0,10):\n",
    "        print(i)\n",
    "        if(i==4):\n",
    "            print(jfj)\n",
    "    print('hello')\n",
    "except Exception as err:\n",
    "    print(err)"
   ]
  },
  {
   "cell_type": "code",
   "execution_count": 32,
   "metadata": {},
   "outputs": [
    {
     "name": "stdout",
     "output_type": "stream",
     "text": [
      "0\n",
      "1\n",
      "2\n",
      "3\n",
      "4\n",
      "name 'jfj' is not defined\n",
      "5\n",
      "6\n",
      "7\n",
      "8\n",
      "9\n",
      "hello\n"
     ]
    }
   ],
   "source": [
    "#让异常后的程序继续\n",
    "for i in range(0,10):\n",
    "    try:\n",
    "        print(i)\n",
    "        if(i==4):\n",
    "            print(jfj)\n",
    "    except Exception as err:\n",
    "        print(err)\n",
    "print('hello')"
   ]
  },
  {
   "cell_type": "code",
   "execution_count": 33,
   "metadata": {
    "collapsed": true
   },
   "outputs": [],
   "source": [
    "'''\n",
    "类：具有某种特征的事物的集合，抽象\n",
    "对象：类中的个体，具体\n",
    "\n",
    "class 类名：\n",
    "    内容\n",
    "\n",
    "'''\n",
    "class cl:\n",
    "    pass"
   ]
  },
  {
   "cell_type": "code",
   "execution_count": 34,
   "metadata": {},
   "outputs": [
    {
     "data": {
      "text/plain": [
       "__main__.cl"
      ]
     },
     "execution_count": 34,
     "metadata": {},
     "output_type": "execute_result"
    }
   ],
   "source": [
    "cl"
   ]
  },
  {
   "cell_type": "code",
   "execution_count": 35,
   "metadata": {},
   "outputs": [
    {
     "data": {
      "text/plain": [
       "<__main__.cl at 0x5dcbd30>"
      ]
     },
     "execution_count": 35,
     "metadata": {},
     "output_type": "execute_result"
    }
   ],
   "source": [
    "a=cl()  #类的实例化（对象）\n",
    "a"
   ]
  },
  {
   "cell_type": "code",
   "execution_count": 40,
   "metadata": {
    "collapsed": true
   },
   "outputs": [],
   "source": [
    "#构造函数（构造方法）\n",
    "# self:在类中必须加self参数\n",
    "# _init_(self,参数)\n",
    "#构造函数的实际意义：初始化\n",
    "class cl2:\n",
    "    def _init_(self):\n",
    "        print('I am cl2 self！')"
   ]
  },
  {
   "cell_type": "code",
   "execution_count": 47,
   "metadata": {
    "collapsed": true
   },
   "outputs": [],
   "source": [
    "#给类加参数\n",
    "class cl3:\n",
    "    def _init_(self,name,job):\n",
    "        print('my name is '+name+\" My job is \"+job)"
   ]
  },
  {
   "cell_type": "code",
   "execution_count": 50,
   "metadata": {},
   "outputs": [
    {
     "ename": "TypeError",
     "evalue": "object() takes no parameters",
     "output_type": "error",
     "traceback": [
      "\u001b[1;31m---------------------------------------------------------------------------\u001b[0m",
      "\u001b[1;31mTypeError\u001b[0m                                 Traceback (most recent call last)",
      "\u001b[1;32m<ipython-input-50-88aa2ae85fce>\u001b[0m in \u001b[0;36m<module>\u001b[1;34m()\u001b[0m\n\u001b[1;32m----> 1\u001b[1;33m \u001b[0mc\u001b[0m\u001b[1;33m=\u001b[0m\u001b[0mcl3\u001b[0m\u001b[1;33m(\u001b[0m\u001b[1;34m'xf'\u001b[0m\u001b[1;33m,\u001b[0m\u001b[1;34m'python'\u001b[0m\u001b[1;33m)\u001b[0m\u001b[1;33m\u001b[0m\u001b[0m\n\u001b[0m",
      "\u001b[1;31mTypeError\u001b[0m: object() takes no parameters"
     ]
    }
   ],
   "source": [
    "c=cl3('xf','python')"
   ]
  },
  {
   "cell_type": "code",
   "execution_count": 54,
   "metadata": {
    "collapsed": true
   },
   "outputs": [],
   "source": [
    "#属性：类里面的变量（self.属性名）\n",
    "class cl4:\n",
    "    def _init_(self,name,job):\n",
    "        self.myname=name\n",
    "        self.myjob=job"
   ]
  },
  {
   "cell_type": "code",
   "execution_count": 56,
   "metadata": {},
   "outputs": [
    {
     "ename": "AttributeError",
     "evalue": "'cl3' object has no attribute 'myname'",
     "output_type": "error",
     "traceback": [
      "\u001b[1;31m---------------------------------------------------------------------------\u001b[0m",
      "\u001b[1;31mAttributeError\u001b[0m                            Traceback (most recent call last)",
      "\u001b[1;32m<ipython-input-56-c3ce64108e2a>\u001b[0m in \u001b[0;36m<module>\u001b[1;34m()\u001b[0m\n\u001b[0;32m      1\u001b[0m \u001b[1;31m#c=cl4('xf','python')\u001b[0m\u001b[1;33m\u001b[0m\u001b[1;33m\u001b[0m\u001b[0m\n\u001b[1;32m----> 2\u001b[1;33m \u001b[0mc\u001b[0m\u001b[1;33m.\u001b[0m\u001b[0mmyname\u001b[0m\u001b[1;33m\u001b[0m\u001b[0m\n\u001b[0m\u001b[0;32m      3\u001b[0m \u001b[0mc\u001b[0m\u001b[1;33m.\u001b[0m\u001b[0mmyjob\u001b[0m\u001b[1;33m\u001b[0m\u001b[0m\n",
      "\u001b[1;31mAttributeError\u001b[0m: 'cl3' object has no attribute 'myname'"
     ]
    }
   ],
   "source": [
    "c=cl4('xf','python')\n",
    "c.myname\n",
    "c.myjob"
   ]
  },
  {
   "cell_type": "code",
   "execution_count": null,
   "metadata": {
    "collapsed": true
   },
   "outputs": [],
   "source": [
    "#继承：把某一个或多个类（父类）的特征拿过来。\n",
    "#重载：重新定义子类特征\n",
    "#继承（单/多继承）\n"
   ]
  },
  {
   "cell_type": "code",
   "execution_count": 3,
   "metadata": {
    "scrolled": true
   },
   "outputs": [
    {
     "name": "stdout",
     "output_type": "stream",
     "text": [
      "6141.03\n",
      "13795.68\n",
      "16006.34\n",
      "19409.04\n",
      "23296.4\n",
      "26834.36\n",
      "31435.94\n",
      "37506.46\n",
      "42924.38\n",
      "45995.48\n",
      "55494.3\n",
      "64725.76\n"
     ]
    }
   ],
   "source": [
    "a=(6141.03,6898.34,8003.67,9705.02,11648.7,13417.68,15718.47,18753.73,21462.69,22998.24,27747.65,32363.38)\n",
    "for i in a:\n",
    "    if i==6141.03:\n",
    "        print(i)\n",
    "    else:\n",
    "        b=i+(i-1)\n",
    "        i+=1\n",
    "        print(b)"
   ]
  },
  {
   "cell_type": "code",
   "execution_count": 14,
   "metadata": {},
   "outputs": [
    {
     "name": "stdout",
     "output_type": "stream",
     "text": [
      "-6141.53\n",
      "-13796.18\n",
      "-16006.84\n",
      "-19409.54\n",
      "-23296.9\n",
      "-26834.86\n",
      "-31436.44\n",
      "-37506.96\n",
      "-42924.88\n",
      "-45995.98\n",
      "-55494.8\n",
      "-64726.26\n"
     ]
    }
   ],
   "source": [
    "b=[6141.03,13795.68,16006.34,19409.04,23296.4,26834.36,31435.94,37506.46,42924.38,45995.48,55494.3,64725.76]\n",
    "for i in b:\n",
    "    c=((-0.5)*(i+(i+1)))\n",
    "    i+=1\n",
    "    print(c)"
   ]
  },
  {
   "cell_type": "code",
   "execution_count": 1,
   "metadata": {
    "collapsed": true
   },
   "outputs": [],
   "source": [
    "def finMin(self,num):\n",
    "    ans=num[0]\n",
    "    for i in num:\n",
    "        ans=min(ans,i)\n",
    "    return ans"
   ]
  },
  {
   "cell_type": "code",
   "execution_count": 4,
   "metadata": {},
   "outputs": [],
   "source": [
    "finMin.num=[1,2,3]"
   ]
  },
  {
   "cell_type": "code",
   "execution_count": null,
   "metadata": {
    "collapsed": true
   },
   "outputs": [],
   "source": []
  }
 ],
 "metadata": {
  "kernelspec": {
   "display_name": "Python 3",
   "language": "python",
   "name": "python3"
  },
  "language_info": {
   "codemirror_mode": {
    "name": "ipython",
    "version": 3
   },
   "file_extension": ".py",
   "mimetype": "text/x-python",
   "name": "python",
   "nbconvert_exporter": "python",
   "pygments_lexer": "ipython3",
   "version": "3.6.3"
  },
  "widgets": {
   "application/vnd.jupyter.widget-state+json": {
    "state": {},
    "version_major": 2,
    "version_minor": 0
   }
  }
 },
 "nbformat": 4,
 "nbformat_minor": 2
}
