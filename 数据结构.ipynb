{
 "cells": [
  {
   "cell_type": "code",
   "execution_count": 1,
   "metadata": {},
   "outputs": [
    {
     "name": "stdout",
     "output_type": "stream",
     "text": [
      "['a', 'b', 'c']\n"
     ]
    }
   ],
   "source": [
    "#队列(先入先出)\n",
    "#入队\n",
    "queue=[]\n",
    "def enqueue(queue,element):\n",
    "    queue.append(element)\n",
    "enqueue(queue,'a')\n",
    "enqueue(queue,'b')\n",
    "enqueue(queue,'c')\n",
    "print(queue)"
   ]
  },
  {
   "cell_type": "code",
   "execution_count": 2,
   "metadata": {},
   "outputs": [
    {
     "name": "stdout",
     "output_type": "stream",
     "text": [
      "a\n",
      "b\n",
      "c\n"
     ]
    }
   ],
   "source": [
    "#出队\n",
    "def dequeue(queue):\n",
    "    e=queue[0]\n",
    "    del queue[0]\n",
    "    return e\n",
    "\n",
    "print(dequeue(queue))\n",
    "print(dequeue(queue))\n",
    "print(dequeue(queue))"
   ]
  },
  {
   "cell_type": "code",
   "execution_count": 5,
   "metadata": {},
   "outputs": [
    {
     "name": "stdout",
     "output_type": "stream",
     "text": [
      "['a', 'b', 'c']\n"
     ]
    }
   ],
   "source": [
    "#栈(先入后出)\n",
    "#入栈\n",
    "stack=[]\n",
    "def push(stack,element):\n",
    "    stack.append(element)\n",
    "\n",
    "push(stack,'a')\n",
    "push(stack,'b')\n",
    "push(stack,'c')\n",
    "print(stack)"
   ]
  },
  {
   "cell_type": "code",
   "execution_count": 6,
   "metadata": {},
   "outputs": [
    {
     "name": "stdout",
     "output_type": "stream",
     "text": [
      "c\n",
      "b\n",
      "a\n"
     ]
    }
   ],
   "source": [
    "#出栈\n",
    "def pop(stack):\n",
    "    e=stack[-1]\n",
    "    del stack[-1]\n",
    "    return e\n",
    "\n",
    "print(pop(stack))\n",
    "print(pop(stack))\n",
    "print(pop(stack))"
   ]
  },
  {
   "cell_type": "code",
   "execution_count": 7,
   "metadata": {},
   "outputs": [
    {
     "name": "stdout",
     "output_type": "stream",
     "text": [
      "['jon', 'lily', 'arya']\n"
     ]
    }
   ],
   "source": [
    "#扩展栈\n",
    "#*args 是不定长参数，可以接收多个参数，生成一个元组\n",
    "def push_all(stack,*args):\n",
    "    for e in args:\n",
    "        stack.append(e)\n",
    "\n",
    "push_all(stack,'jon','lily','arya')\n",
    "print(stack)"
   ]
  },
  {
   "cell_type": "code",
   "execution_count": 8,
   "metadata": {
    "collapsed": true
   },
   "outputs": [],
   "source": [
    "#面向对象的栈和队列\n",
    "#队列\n",
    "class Queue(object):\n",
    "    #__init__:其实就是函数，也叫魔法方法\n",
    "    #初始化方法，生成魔法属性，魔法属性可以理解为用来存储数据的容器\n",
    "    def __init__(self):\n",
    "        self.array=[]\n",
    "    \n",
    "    #入队\n",
    "    def enqueue(self,element):\n",
    "        self.array.append(element)\n",
    "    \n",
    "    #出队\n",
    "    def dequeue(self):\n",
    "        e=self.array[0]\n",
    "        del self.array[0]\n",
    "        return e   "
   ]
  },
  {
   "cell_type": "code",
   "execution_count": 12,
   "metadata": {},
   "outputs": [
    {
     "name": "stdout",
     "output_type": "stream",
     "text": [
      "['a', 'b', 'c']\n",
      "a\n",
      "b\n",
      "c\n"
     ]
    }
   ],
   "source": [
    "q=Queue() \n",
    "q.enqueue('a')\n",
    "q.enqueue('b')\n",
    "q.enqueue('c')\n",
    "print(q.array)\n",
    "print(q.dequeue())\n",
    "print(q.dequeue())\n",
    "print(q.dequeue())"
   ]
  },
  {
   "cell_type": "code",
   "execution_count": 16,
   "metadata": {
    "collapsed": true
   },
   "outputs": [],
   "source": [
    "#栈\n",
    "class Stack(object):\n",
    "    def __init__(self):\n",
    "        self.array=[]\n",
    "        #设置栈的容量\n",
    "        self.capacity=3\n",
    "        #栈已存的数据个数\n",
    "        self.number=0\n",
    "    \n",
    "    #入栈\n",
    "    def push(self,element):\n",
    "        if self.number<self.capacity:\n",
    "            self.number+=1\n",
    "            self.array.append(element)\n",
    "        else:\n",
    "            print('栈溢出了')\n",
    "    #出栈\n",
    "    def pop(self):\n",
    "        if self.number>0:\n",
    "            self.number-=1\n",
    "            e=self.array[-1]\n",
    "            del self.array[-1]\n",
    "            return e\n",
    "        else:\n",
    "            print('栈空了')"
   ]
  },
  {
   "cell_type": "code",
   "execution_count": 17,
   "metadata": {},
   "outputs": [
    {
     "name": "stdout",
     "output_type": "stream",
     "text": [
      "栈溢出了\n"
     ]
    }
   ],
   "source": [
    "s=Stack()\n",
    "s.push('a')\n",
    "s.push('b')\n",
    "s.push('c')\n",
    "s.push('d')"
   ]
  },
  {
   "cell_type": "code",
   "execution_count": 18,
   "metadata": {},
   "outputs": [
    {
     "name": "stdout",
     "output_type": "stream",
     "text": [
      "['a', 'b', 'c']\n",
      "c\n",
      "b\n",
      "a\n",
      "栈空了\n",
      "None\n"
     ]
    }
   ],
   "source": [
    "s=Stack()\n",
    "s.push('a')\n",
    "s.push('b')\n",
    "s.push('c')\n",
    "print(s.array)\n",
    "print(s.pop())\n",
    "print(s.pop())\n",
    "print(s.pop())\n",
    "print(s.pop())"
   ]
  },
  {
   "cell_type": "code",
   "execution_count": 19,
   "metadata": {
    "collapsed": true
   },
   "outputs": [],
   "source": [
    "#单链表\n",
    "class Node(object):\n",
    "    def __init__(self,element=0):\n",
    "        self.element=element\n",
    "        self.next=None    "
   ]
  },
  {
   "cell_type": "code",
   "execution_count": 26,
   "metadata": {
    "collapsed": true
   },
   "outputs": [],
   "source": [
    "#实例化一个Node实例，下面同\n",
    "n1=Node(1)\n",
    "n2=Node(2)\n",
    "n3=Node(3)\n",
    "n4=Node(4) \n",
    "n5=Node(5) \n",
    "\n",
    "n1.next=n2\n",
    "n2.next=n3\n",
    "n3.next=n4\n",
    "n4.next=n5"
   ]
  },
  {
   "cell_type": "code",
   "execution_count": 27,
   "metadata": {},
   "outputs": [
    {
     "name": "stdout",
     "output_type": "stream",
     "text": [
      "log_nodes 1\n",
      "log_nodes 2\n",
      "log_nodes 3\n",
      "log_nodes 4\n",
      "log_nodes 5\n"
     ]
    }
   ],
   "source": [
    "def log_nodes(node):\n",
    "    while node is not None:\n",
    "        print('log_nodes',node.element)\n",
    "        node=node.next\n",
    "log_nodes(n1)"
   ]
  },
  {
   "cell_type": "code",
   "execution_count": 22,
   "metadata": {
    "collapsed": true
   },
   "outputs": [],
   "source": [
    "#用传统方式实现栈\n",
    "class ClassStack(object):\n",
    "    def __init__(self):\n",
    "        self.head=Node()\n",
    "        \n",
    "    def push(self,element):\n",
    "        #实例化一个Node实例\n",
    "        n=Node(element)\n",
    "        #将新来的拉向head所拉的元素\n",
    "        n.next=self.head.next\n",
    "        #将head拉向新来的\n",
    "        self.head.next=n\n",
    "        \n",
    "    def pop(self):\n",
    "        #先取到最后一个元素\n",
    "        n=self.head.next\n",
    "        #将head拉向最后一个元素所拉的元素\n",
    "        self.head.next=n.next\n",
    "        return n.element"
   ]
  },
  {
   "cell_type": "code",
   "execution_count": 24,
   "metadata": {},
   "outputs": [
    {
     "name": "stdout",
     "output_type": "stream",
     "text": [
      "c\n",
      "b\n",
      "a\n"
     ]
    }
   ],
   "source": [
    "cs=ClassStack()\n",
    "cs.push('a')\n",
    "cs.push('b') \n",
    "cs.push('c')\n",
    "print(cs.pop())\n",
    "print(cs.pop())\n",
    "print(cs.pop())"
   ]
  },
  {
   "cell_type": "code",
   "execution_count": 32,
   "metadata": {},
   "outputs": [
    {
     "data": {
      "text/plain": [
       "[1, 2, 3, 4, 5, 6, 7, 8]"
      ]
     },
     "execution_count": 32,
     "metadata": {},
     "output_type": "execute_result"
    }
   ],
   "source": [
    "#列表\n",
    "L=[1,2,3,4,5,6,7]\n",
    "Y=[1,2,3,4,5,6,7]\n",
    "L.append(8)\n",
    "L"
   ]
  },
  {
   "cell_type": "code",
   "execution_count": 38,
   "metadata": {},
   "outputs": [
    {
     "data": {
      "text/plain": [
       "[1, 2, 3, 4]"
      ]
     },
     "execution_count": 38,
     "metadata": {},
     "output_type": "execute_result"
    }
   ],
   "source": [
    "L.pop()\n",
    "L"
   ]
  },
  {
   "cell_type": "code",
   "execution_count": 39,
   "metadata": {},
   "outputs": [
    {
     "data": {
      "text/plain": [
       "[0, 1, 4, 9, 16, 25, 36, 49, 64, 81]"
      ]
     },
     "execution_count": 39,
     "metadata": {},
     "output_type": "execute_result"
    }
   ],
   "source": [
    "squares=[]\n",
    "for x in range(10):\n",
    "    squares.append(x**2)\n",
    "squares"
   ]
  },
  {
   "cell_type": "code",
   "execution_count": 41,
   "metadata": {},
   "outputs": [
    {
     "data": {
      "text/plain": [
       "[0, 1, 4, 9, 16, 25, 36, 49, 64, 81]"
      ]
     },
     "execution_count": 41,
     "metadata": {},
     "output_type": "execute_result"
    }
   ],
   "source": [
    "squares_list=[x**2 for x in range(10)]\n",
    "squares_list"
   ]
  },
  {
   "cell_type": "code",
   "execution_count": 48,
   "metadata": {},
   "outputs": [],
   "source": [
    "#字典\n",
    "table={'python':'2333','Go':'666','R':'555'}"
   ]
  },
  {
   "cell_type": "code",
   "execution_count": 53,
   "metadata": {},
   "outputs": [
    {
     "name": "stdout",
     "output_type": "stream",
     "text": [
      "python\n",
      "Go\n",
      "R\n"
     ]
    }
   ],
   "source": [
    "for lang in table.keys():print(lang)"
   ]
  }
 ],
 "metadata": {
  "kernelspec": {
   "display_name": "Python 3",
   "language": "python",
   "name": "python3"
  },
  "language_info": {
   "codemirror_mode": {
    "name": "ipython",
    "version": 3
   },
   "file_extension": ".py",
   "mimetype": "text/x-python",
   "name": "python",
   "nbconvert_exporter": "python",
   "pygments_lexer": "ipython3",
   "version": "3.6.3"
  }
 },
 "nbformat": 4,
 "nbformat_minor": 2
}
