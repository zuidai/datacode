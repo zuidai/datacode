{
 "cells": [
  {
   "cell_type": "code",
   "execution_count": 6,
   "metadata": {},
   "outputs": [
    {
     "name": "stdout",
     "output_type": "stream",
     "text": [
      "python\n"
     ]
    }
   ],
   "source": [
    "#if（条件分支）\n",
    "a=100\n",
    "b=1\n",
    "if (a>19 and a<100):\n",
    "    print(a)\n",
    "    if(b<9):\n",
    "        print(b)\n",
    "elif(a>9 and a<=19):\n",
    "    print('a<9 and a<=19')\n",
    "elif(a<9):\n",
    "    print('a<9')\n",
    "else:\n",
    "    print('python')"
   ]
  },
  {
   "cell_type": "code",
   "execution_count": 7,
   "metadata": {},
   "outputs": [
    {
     "name": "stdout",
     "output_type": "stream",
     "text": [
      "hello\n",
      "hello\n",
      "hello\n",
      "hello\n",
      "hello\n",
      "hello\n",
      "hello\n",
      "hello\n",
      "hello\n",
      "hello\n"
     ]
    }
   ],
   "source": [
    "#while\n",
    "a=0\n",
    "while(a<10):\n",
    "    print('hello')\n",
    "    a+=1"
   ]
  },
  {
   "cell_type": "code",
   "execution_count": 13,
   "metadata": {},
   "outputs": [
    {
     "name": "stdout",
     "output_type": "stream",
     "text": [
      "aa\n",
      "b\n",
      "c\n",
      "d\n"
     ]
    }
   ],
   "source": [
    "#for\n",
    "#for:遍历列表\n",
    "a=['aa','b','c','d']\n",
    "for i in a:\n",
    "    print(i)"
   ]
  },
  {
   "cell_type": "code",
   "execution_count": 15,
   "metadata": {},
   "outputs": [
    {
     "name": "stdout",
     "output_type": "stream",
     "text": [
      "hello\n",
      "hello\n",
      "hello\n",
      "hello\n",
      "hello\n",
      "hello\n",
      "hello\n",
      "hello\n",
      "hello\n",
      "hello\n"
     ]
    }
   ],
   "source": [
    "#for:进行常规循环\n",
    "#for i in rangr(0,10)\n",
    "for i in range(0,10):\n",
    "    print('hello')"
   ]
  },
  {
   "cell_type": "code",
   "execution_count": 16,
   "metadata": {},
   "outputs": [
    {
     "name": "stdout",
     "output_type": "stream",
     "text": [
      "aa\n",
      "b\n"
     ]
    }
   ],
   "source": [
    "#break:全部直接退出,整个循环都中断\n",
    "for i in a:\n",
    "    if(i=='c'):\n",
    "        break\n",
    "    print(i)"
   ]
  },
  {
   "cell_type": "code",
   "execution_count": 17,
   "metadata": {},
   "outputs": [
    {
     "name": "stdout",
     "output_type": "stream",
     "text": [
      "aa\n",
      "b\n",
      "d\n"
     ]
    }
   ],
   "source": [
    "#continue:中断一次循环后，继续下一次循环\n",
    "for i in a:\n",
    "    if(i=='c'):\n",
    "        #break\n",
    "        continue\n",
    "    print(i)"
   ]
  },
  {
   "cell_type": "code",
   "execution_count": 1,
   "metadata": {},
   "outputs": [
    {
     "name": "stdout",
     "output_type": "stream",
     "text": [
      "1*1=1  \n",
      "2*1=2  2*2=4  \n",
      "3*1=3  3*2=6  3*3=9  \n",
      "4*1=4  4*2=8  4*3=12  4*4=16  \n",
      "5*1=5  5*2=10  5*3=15  5*4=20  5*5=25  \n",
      "6*1=6  6*2=12  6*3=18  6*4=24  6*5=30  6*6=36  \n",
      "7*1=7  7*2=14  7*3=21  7*4=28  7*5=35  7*6=42  7*7=49  \n",
      "8*1=8  8*2=16  8*3=24  8*4=32  8*5=40  8*6=48  8*7=56  8*8=64  \n",
      "9*1=9  9*2=18  9*3=27  9*4=36  9*5=45  9*6=54  9*7=63  9*8=72  9*9=81  \n"
     ]
    }
   ],
   "source": [
    "#输出乘法口诀\n",
    "#end='':代表不换行输出\n",
    "for i in range(1,10):\n",
    "    for j in range(1,i+1):\n",
    "        print(str(i)+ '*'+str(j)+'='+str(i*j),end='  ')  #end='  ':输出空格\n",
    "    print()     #转行输出"
   ]
  },
  {
   "cell_type": "code",
   "execution_count": 5,
   "metadata": {},
   "outputs": [
    {
     "name": "stdout",
     "output_type": "stream",
     "text": [
      "9*9=81  9*8=72  9*7=63  9*6=54  9*5=45  9*4=36  9*3=27  9*2=18  9*1=9  \n",
      "8*9=72  8*8=64  8*7=56  8*6=48  8*5=40  8*4=32  8*3=24  8*2=16  8*1=8  \n",
      "7*9=63  7*8=56  7*7=49  7*6=42  7*5=35  7*4=28  7*3=21  7*2=14  7*1=7  \n",
      "6*9=54  6*8=48  6*7=42  6*6=36  6*5=30  6*4=24  6*3=18  6*2=12  6*1=6  \n",
      "5*9=45  5*8=40  5*7=35  5*6=30  5*5=25  5*4=20  5*3=15  5*2=10  5*1=5  \n",
      "4*9=36  4*8=32  4*7=28  4*6=24  4*5=20  4*4=16  4*3=12  4*2=8  4*1=4  \n",
      "3*9=27  3*8=24  3*7=21  3*6=18  3*5=15  3*4=12  3*3=9  3*2=6  3*1=3  \n",
      "2*9=18  2*8=16  2*7=14  2*6=12  2*5=10  2*4=8  2*3=6  2*2=4  2*1=2  \n",
      "1*9=9  1*8=8  1*7=7  1*6=6  1*5=5  1*4=4  1*3=3  1*2=2  1*1=1  \n"
     ]
    }
   ],
   "source": [
    "a1=(9,8,7,6,5,4,3,2,1)\n",
    "for i in a1:\n",
    "    for j in a1:\n",
    "        print(str(i)+ '*'+str(j)+'='+str(i*j),end='  ')   \n",
    "    print()   "
   ]
  },
  {
   "cell_type": "code",
   "execution_count": 4,
   "metadata": {},
   "outputs": [
    {
     "name": "stdout",
     "output_type": "stream",
     "text": [
      "9*9=81  9*8=72  9*7=63  9*6=54  9*5=45  9*4=36  9*3=27  9*2=18  9*1=9  \n",
      "8*8=64  8*7=56  8*6=48  8*5=40  8*4=32  8*3=24  8*2=16  8*1=8  \n",
      "7*7=49  7*6=42  7*5=35  7*4=28  7*3=21  7*2=14  7*1=7  \n",
      "6*6=36  6*5=30  6*4=24  6*3=18  6*2=12  6*1=6  \n",
      "5*5=25  5*4=20  5*3=15  5*2=10  5*1=5  \n",
      "4*4=16  4*3=12  4*2=8  4*1=4  \n",
      "3*3=9  3*2=6  3*1=3  \n",
      "2*2=4  2*1=2  \n",
      "1*1=1  \n"
     ]
    }
   ],
   "source": [
    "a1=(9,8,7,6,5,4,3,2,1)\n",
    "for i in a1:\n",
    "    for j in range(i,0,-1):\n",
    "        print(str(i)+ '*'+str(j)+'='+str(i*j),end='  ')   \n",
    "    print()     "
   ]
  },
  {
   "cell_type": "code",
   "execution_count": 3,
   "metadata": {},
   "outputs": [
    {
     "name": "stdout",
     "output_type": "stream",
     "text": [
      "9*9=81  9*8=72  9*7=63  9*6=54  9*5=45  9*4=36  9*3=27  9*2=18  9*1=9  \n",
      "8*8=64  8*7=56  8*6=48  8*5=40  8*4=32  8*3=24  8*2=16  8*1=8  \n",
      "7*7=49  7*6=42  7*5=35  7*4=28  7*3=21  7*2=14  7*1=7  \n",
      "6*6=36  6*5=30  6*4=24  6*3=18  6*2=12  6*1=6  \n",
      "5*5=25  5*4=20  5*3=15  5*2=10  5*1=5  \n",
      "4*4=16  4*3=12  4*2=8  4*1=4  \n",
      "3*3=9  3*2=6  3*1=3  \n",
      "2*2=4  2*1=2  \n",
      "1*1=1  \n"
     ]
    }
   ],
   "source": [
    "#逆向输出乘法口诀\n",
    "for i in range(9,0,-1):\n",
    "    for j in range(i,0,-1):\n",
    "        print(str(i)+ '*'+str(j)+'='+str(i*j),end='  ')  #end='  ':输出空格\n",
    "    print()     #转行输出"
   ]
  }
 ],
 "metadata": {
  "kernelspec": {
   "display_name": "Python 3",
   "language": "python",
   "name": "python3"
  },
  "language_info": {
   "codemirror_mode": {
    "name": "ipython",
    "version": 3
   },
   "file_extension": ".py",
   "mimetype": "text/x-python",
   "name": "python",
   "nbconvert_exporter": "python",
   "pygments_lexer": "ipython3",
   "version": "3.6.3"
  }
 },
 "nbformat": 4,
 "nbformat_minor": 2
}
